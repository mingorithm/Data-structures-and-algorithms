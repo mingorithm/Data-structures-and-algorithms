{
 "cells": [
  {
   "cell_type": "code",
   "execution_count": 1,
   "metadata": {},
   "outputs": [],
   "source": [
    "import os"
   ]
  },
  {
   "cell_type": "code",
   "execution_count": 2,
   "metadata": {},
   "outputs": [],
   "source": [
    "def search(dirname) :\n",
    "\ttry :\n",
    "\t\tfilenames = os.listdir(dirname)\n",
    "\t\tfor filename in filenames :\n",
    "\t\t\tfull_filename = os.path.join(dirname, filename)\n",
    "\t\t\tif os.path.isdir(full_filename) :\n",
    "\t\t\t\tsearch(full_filename)\n",
    "\t\t\telse :\n",
    "\t\t\t\text = os.path.splitext(full_filename)[-1]\n",
    "\t\t\t\tif ext == '.py' :\n",
    "\t\t\t\t\tprint(full_filename)\n",
    "\texcept PermissionError :\n",
    "\t\tpass"
   ]
  },
  {
   "cell_type": "code",
   "execution_count": 4,
   "metadata": {},
   "outputs": [
    {
     "name": "stdout",
     "output_type": "stream",
     "text": [
      "C:\\Download\\해오라기\\Chapter.6.py\n"
     ]
    }
   ],
   "source": [
    "search('C:\\Download\\해오라기')"
   ]
  },
  {
   "cell_type": "code",
   "execution_count": 5,
   "metadata": {},
   "outputs": [],
   "source": [
    "for (path, dir, files) in os.walk('D:\\Downloads\\Chapter.6') :\n",
    "    for filename in files:\n",
    "        ext = os.path.splitext(filename)[-1]\n",
    "        if ext == '.py' :\n",
    "            print('%s/%s' % (path, filename))"
   ]
  },
  {
   "cell_type": "code",
   "execution_count": null,
   "metadata": {},
   "outputs": [],
   "source": []
  }
 ],
 "metadata": {
  "kernelspec": {
   "display_name": "Python 3",
   "language": "python",
   "name": "python3"
  },
  "language_info": {
   "codemirror_mode": {
    "name": "ipython",
    "version": 3
   },
   "file_extension": ".py",
   "mimetype": "text/x-python",
   "name": "python",
   "nbconvert_exporter": "python",
   "pygments_lexer": "ipython3",
   "version": "3.8.3"
  }
 },
 "nbformat": 4,
 "nbformat_minor": 4
}
