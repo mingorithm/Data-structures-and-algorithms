{
 "cells": [
  {
   "cell_type": "code",
   "execution_count": 3,
   "metadata": {},
   "outputs": [
    {
     "name": "stdout",
     "output_type": "stream",
     "text": [
      "힙 정렬을 수행합니다.\n",
      "원소 수를 입력하세요. : 6\n",
      "x[0] : 2\n",
      "x[1] : 5\n",
      "x[2] : 1\n",
      "x[3] : 4\n",
      "x[4] : 6\n",
      "x[5] : 9\n",
      "오름차순으로 정렬했습니다.\n",
      "x[0] = 1\n",
      "x[1] = 2\n",
      "x[2] = 4\n",
      "x[3] = 5\n",
      "x[4] = 6\n",
      "x[5] = 9\n"
     ]
    }
   ],
   "source": [
    "from typing import MutableSequence\n",
    "\n",
    "def heap_sort(a: MutableSequence) -> None:\n",
    "    def down_heap(a: MutableSequence, left: int, right: int) -> None:\n",
    "        \n",
    "        temp=a[left]\n",
    "        \n",
    "        parent=left\n",
    "        while parent<(right+1)//2:\n",
    "            cl = parent * 2 + 1    \n",
    "            cr = cl + 1             \n",
    "            child = cr if cr <= right and a[cr] > a[cl] else cl  \n",
    "            if temp >= a[child]:\n",
    "                break\n",
    "            a[parent] = a[child]\n",
    "            parent = child\n",
    "        a[parent] = temp\n",
    "        \n",
    "    n=len(a)\n",
    "    \n",
    "    for i in range((n - 1) // 2, -1, -1):   \n",
    "        down_heap(a, i, n - 1)\n",
    "\n",
    "    for i in range(n - 1, 0, -1):\n",
    "        a[0], a[i] = a[i], a[0]    \n",
    "        down_heap(a, 0, i - 1)     \n",
    "\n",
    "if __name__ == '__main__':\n",
    "    print('힙 정렬을 수행합니다.')\n",
    "    num = int(input('원소 수를 입력하세요. : '))\n",
    "    x = [None] * num   \n",
    "\n",
    "    for i in range(num):\n",
    "        x[i] = int(input(f'x[{i}] : '))\n",
    "\n",
    "    heap_sort(x)       \n",
    "\n",
    "    print('오름차순으로 정렬했습니다.')\n",
    "    for i in range(num):\n",
    "        print(f'x[{i}] = {x[i]}')\n",
    "    "
   ]
  },
  {
   "cell_type": "code",
   "execution_count": null,
   "metadata": {},
   "outputs": [],
   "source": []
  }
 ],
 "metadata": {
  "kernelspec": {
   "display_name": "Python 3",
   "language": "python",
   "name": "python3"
  },
  "language_info": {
   "codemirror_mode": {
    "name": "ipython",
    "version": 3
   },
   "file_extension": ".py",
   "mimetype": "text/x-python",
   "name": "python",
   "nbconvert_exporter": "python",
   "pygments_lexer": "ipython3",
   "version": "3.8.3"
  }
 },
 "nbformat": 4,
 "nbformat_minor": 4
}
