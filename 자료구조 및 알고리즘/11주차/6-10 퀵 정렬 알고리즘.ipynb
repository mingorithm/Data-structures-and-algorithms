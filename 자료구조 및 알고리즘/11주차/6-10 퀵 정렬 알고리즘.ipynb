{
 "cells": [
  {
   "cell_type": "code",
   "execution_count": 2,
   "metadata": {},
   "outputs": [
    {
     "name": "stdout",
     "output_type": "stream",
     "text": [
      "퀵 정렬을 수행합니다.\n",
      "원소 수를 입력:9\n",
      "x[0]:5\n",
      "x[1]:8\n",
      "x[2]:4\n",
      "x[3]:2\n",
      "x[4]:6\n",
      "x[5]:1\n",
      "x[6]:3\n",
      "x[7]:9\n",
      "x[8]:7\n",
      "오름차순으로 정렬했습니다.\n",
      "x[0]=1\n",
      "x[1]=2\n",
      "x[2]=3\n",
      "x[3]=4\n",
      "x[4]=5\n",
      "x[5]=6\n",
      "x[6]=7\n",
      "x[7]=8\n",
      "x[8]=9\n"
     ]
    }
   ],
   "source": [
    "from typing import MutableSequence\n",
    "\n",
    "def qsort(a:MutableSequence ,left:int,right:int)->None:\n",
    "    \n",
    "    pl=left\n",
    "    pr=right\n",
    "    x=a[(left+right)//2]   ##짝수일땐 가운데왼쪽이 피벗\n",
    "    \n",
    "    while pl<pr:\n",
    "        while a[pl]<x:pl+=1\n",
    "        while a[pr]>x:pr-=1\n",
    "        if pl<=pr:\n",
    "            a[pl],a[pr]=a[pr],a[pl]\n",
    "            pl+=1\n",
    "            pr-=1\n",
    "                \n",
    "    if left<pr:qsort(a,left,pr)     ##왼쪽 커서가 pr 보다 작으면\n",
    "    if pl<right:qsort(a,pl,right)   ##pl이 right보다 작으면\n",
    "        \n",
    "def quick_sort(a:MutableSequence)->None:\n",
    "    qsort(a,0,len(a)-1)\n",
    "    \n",
    "    \n",
    "if __name__== '__main__':\n",
    "    print('퀵 정렬을 수행합니다.')\n",
    "    num=int(input('원소 수를 입력:'))\n",
    "    x=[None]*num\n",
    "    \n",
    "    for i in range(num):\n",
    "        x[i]= int(input(f'x[{i}]:'))\n",
    "        \n",
    "    quick_sort(x)\n",
    "    \n",
    "    print('오름차순으로 정렬했습니다.')\n",
    "    for i in range(num):\n",
    "        print(f'x[{i}]={x[i]}')\n",
    "        \n",
    "        \n",
    "        \n",
    "                "
   ]
  },
  {
   "cell_type": "code",
   "execution_count": null,
   "metadata": {},
   "outputs": [],
   "source": []
  }
 ],
 "metadata": {
  "kernelspec": {
   "display_name": "Python 3",
   "language": "python",
   "name": "python3"
  },
  "language_info": {
   "codemirror_mode": {
    "name": "ipython",
    "version": 3
   },
   "file_extension": ".py",
   "mimetype": "text/x-python",
   "name": "python",
   "nbconvert_exporter": "python",
   "pygments_lexer": "ipython3",
   "version": "3.8.3"
  }
 },
 "nbformat": 4,
 "nbformat_minor": 4
}
