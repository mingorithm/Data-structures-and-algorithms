{
 "cells": [
  {
   "cell_type": "code",
   "execution_count": null,
   "metadata": {},
   "outputs": [],
   "source": [
    "from typing import MutableSequence\n",
    "\n",
    "\n",
    "def fsort(a: MutableSequence, max: int) -> None:\n",
    "    n=len(a)\n",
    "    f=[0]*(max+1)\n",
    "    b=[0]*n\n",
    "    \n",
    "    for i in range(n): f[a[i]]+=1                           \n",
    "    for i in range(1,max+1): f[i]+=f[i-1]\n",
    "    for i in range(n-1,-1,-1): f[a[i]]-=1; b[f[a[i]]]=a[i]\n",
    "    for i in range(n): a[i]=b[i]\n",
    "        \n",
    "def counting_sort(a: MutableSequence) -> None:\n",
    "    fsort(a, max(a))\n",
    "\n",
    "if __name__ == '__main__':\n",
    "    print('도수 정렬을 합니다.')\n",
    "    num = int(input('원소 수를 입력하세요. : '))\n",
    "    x = [None] * num  \n",
    "\n",
    "    for i in range(num):  \n",
    "        while True:\n",
    "            x[i] = int(input(f'x[{i}] : '))\n",
    "            if x[i] >= 0: break\n",
    "\n",
    "    counting_sort(x) \n",
    "\n",
    "    print('오름차순으로 정렬했습니다.')\n",
    "    for i in range(num):\n",
    "        print(f'x[{i}] = {x[i]}')"
   ]
  }
 ],
 "metadata": {
  "kernelspec": {
   "display_name": "Python 3",
   "language": "python",
   "name": "python3"
  },
  "language_info": {
   "codemirror_mode": {
    "name": "ipython",
    "version": 3
   },
   "file_extension": ".py",
   "mimetype": "text/x-python",
   "name": "python",
   "nbconvert_exporter": "python",
   "pygments_lexer": "ipython3",
   "version": "3.8.3"
  }
 },
 "nbformat": 4,
 "nbformat_minor": 4
}
