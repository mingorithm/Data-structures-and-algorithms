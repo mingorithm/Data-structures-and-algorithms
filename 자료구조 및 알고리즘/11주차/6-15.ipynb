{
 "cells": [
  {
   "cell_type": "code",
   "execution_count": null,
   "metadata": {},
   "outputs": [],
   "source": [
    "from typing import MutableSequence\n",
    "\n",
    "def merge_sort(a: MutableSequence) -> None:\n",
    "\n",
    "     def _merge_sort(a: MutableSequence, left: int, right: int) -> None:\n",
    "        if left<right:\n",
    "            center=(left+right)//2\n",
    "            \n",
    "            _merge_sort(a,left,center)\n",
    "            _merge_sort(a,center+1,right)\n",
    "            \n",
    "            p=j=0\n",
    "            i=k=left\n",
    "            \n",
    "            while i<=center:             ##왼쪽 앞부분 병합 정렬\n",
    "                buff[p]=a[i]\n",
    "                p+=1\n",
    "                i+=1\n",
    "                \n",
    "            while i<=right and j<p:\n",
    "                if buff[j]<=a[i]:           ##이 부분이 이해가 안갑니다.\n",
    "                    a[k]=buff[j]\n",
    "                    j+=1\n",
    "                else:\n",
    "                    a[k]=a[i]\n",
    "                    i+=1\n",
    "                k+=1\n",
    "                \n",
    "            while j<p:\n",
    "                a[k]=buff[j]\n",
    "                k+=1\n",
    "                j+=1\n",
    "    n=len(a)\n",
    "    buff=[None]*n\n",
    "    _merge_sort(a,0,n-1)\n",
    "    del buff\n",
    "    \n",
    "if __name__ == '__main__':\n",
    "    print('병합 정렬을 수행합니다')\n",
    "    num = int(input('원소 수를 입력하세요.: '))\n",
    "    x = [None] * num    \n",
    "    for i in range(num):\n",
    "        x[i] = int(input(f'x[{i}]: '))\n",
    "\n",
    "    merge_sort(x)       \n",
    "\n",
    "    print('오름차순으로 정렬했습니다.')\n",
    "    for i in range(num):\n",
    "        print(f'x[{i}] = {x[i]}')\n",
    "            \n"
   ]
  }
 ],
 "metadata": {
  "kernelspec": {
   "display_name": "Python 3",
   "language": "python",
   "name": "python3"
  },
  "language_info": {
   "codemirror_mode": {
    "name": "ipython",
    "version": 3
   },
   "file_extension": ".py",
   "mimetype": "text/x-python",
   "name": "python",
   "nbconvert_exporter": "python",
   "pygments_lexer": "ipython3",
   "version": "3.8.3"
  }
 },
 "nbformat": 4,
 "nbformat_minor": 4
}
