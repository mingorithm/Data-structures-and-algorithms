{
 "cells": [
  {
   "cell_type": "code",
   "execution_count": 5,
   "metadata": {},
   "outputs": [
    {
     "name": "stdout",
     "output_type": "stream",
     "text": [
      "정렬을 마친 두 배열의 병합을 수행합니다.\n",
      "배열 a와 b를 병합하여 배열 c에 저장하였습니다.\n",
      "배열 a: [2, 4, 6, 8, 11, 13]\n",
      "배열 b: [1, 2, 3, 4, 9, 16, 21]\n",
      "배열 c: [1, 2, 2, 3, 4, 4, 6, 8, 9, 11, 13, 16, 21]\n"
     ]
    }
   ],
   "source": [
    "from typing import Sequence,MutableSequence\n",
    "\n",
    "def merge_sorted_list(a: Sequence, b: Sequence, c: MutableSequence) -> None:\n",
    "    pa,pb,pc=0,0,0\n",
    "    na,nb,nc=len(a),len(b),len(c)\n",
    "    \n",
    "    while pa< na and pb<nb:     ## pa와 pb가 길이보다 작을때까지 계속\n",
    "        if a[pa]<=b[pb]:        ## pa보다 pb가 크면 c에 pa를 넣기\n",
    "            c[pc]=a[pa]\n",
    "            pa+=1\n",
    "        else:\n",
    "            c[pc]=b[pb]          \n",
    "            pb+=1\n",
    "        pc+=1\n",
    "        \n",
    "    while pa<na:                  #남은 원소들 붙여넣기\n",
    "        c[pc]=a[pa]\n",
    "        pa+=1\n",
    "        pc+=1\n",
    "        \n",
    "    while pb<nb:\n",
    "        c[pc]=b[pb]\n",
    "        pb+=1\n",
    "        pc+=1\n",
    "        \n",
    "if __name__ == '__main__':\n",
    "    a = [2, 4, 6, 8, 11, 13]\n",
    "    b = [1, 2, 3, 4, 9, 16, 21]\n",
    "    c = [None] * (len(a) + len(b))\n",
    "    print('정렬을 마친 두 배열의 병합을 수행합니다.')\n",
    "\n",
    "    merge_sorted_list(a, b, c)  # 배열 a와 b를 병합하여 c에 저장\n",
    "\n",
    "    print('배열 a와 b를 병합하여 배열 c에 저장하였습니다.')\n",
    "    print(f'배열 a: {a}')\n",
    "    print(f'배열 b: {b}')\n",
    "    print(f'배열 c: {c}')"
   ]
  },
  {
   "cell_type": "code",
   "execution_count": null,
   "metadata": {},
   "outputs": [],
   "source": []
  }
 ],
 "metadata": {
  "kernelspec": {
   "display_name": "Python 3",
   "language": "python",
   "name": "python3"
  },
  "language_info": {
   "codemirror_mode": {
    "name": "ipython",
    "version": 3
   },
   "file_extension": ".py",
   "mimetype": "text/x-python",
   "name": "python",
   "nbconvert_exporter": "python",
   "pygments_lexer": "ipython3",
   "version": "3.8.3"
  }
 },
 "nbformat": 4,
 "nbformat_minor": 4
}
