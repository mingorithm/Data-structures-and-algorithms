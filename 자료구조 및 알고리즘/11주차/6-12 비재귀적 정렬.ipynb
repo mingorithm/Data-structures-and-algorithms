{
 "cells": [
  {
   "cell_type": "code",
   "execution_count": null,
   "metadata": {},
   "outputs": [],
   "source": [
    "from typing import MutableSequence\n",
    "from stack import Stack\n",
    "\n",
    "def qsort(a: MutableSequence, left:int, right: int)->None:\n",
    "    range=Stack(right-left+1)\n",
    "    \n",
    "    range.push((left,right))\n",
    "    \n",
    "    while not range.is_empty:\n",
    "        pl,pr=left,right=range.pop()             ##stack존재하지 않을때까지 팝\n",
    "        x=a[(left+right)//2]\n",
    "        \n",
    "         while pl <= pr:\n",
    "            while a[pl] < x: pl += 1\n",
    "            while a[pr] > x: pr -= 1\n",
    "            if pl <= pr:                       \n",
    "                a[pl], a[pr] = a[pr], a[pl]\n",
    "                pl += 1\n",
    "                pr -= 1\n",
    "                \n",
    "        if left<pr:range.push((left,pr))           ##왼쪽 그룹 팝\n",
    "        if pl<right:range.push((pl,right))         ##오른쪽 그룹 팝\n",
    "            \n",
    "def quick_sort(a: MutableSequence) -> None:\n",
    "    qsort(a, 0, len(a) - 1)\n",
    "\n",
    "if __name__ == '__main__':\n",
    "    print('비재귀적인 퀵 정렬')\n",
    "    num = int(input('원소 수를 입력하세요.: '))\n",
    "    x = [None] * num    \n",
    "\n",
    "    for i in range(num):\n",
    "        x[i] = int(input(f'x[{i}]: '))\n",
    "\n",
    "    quick_sort(x)       \n",
    "\n",
    "    print('오름차순으로 정렬했습니다.')\n",
    "    for i in range(num):\n",
    "        print(f'x[{i}] = {x[i]}')"
   ]
  }
 ],
 "metadata": {
  "kernelspec": {
   "display_name": "Python 3",
   "language": "python",
   "name": "python3"
  },
  "language_info": {
   "codemirror_mode": {
    "name": "ipython",
    "version": 3
   },
   "file_extension": ".py",
   "mimetype": "text/x-python",
   "name": "python",
   "nbconvert_exporter": "python",
   "pygments_lexer": "ipython3",
   "version": "3.8.3"
  }
 },
 "nbformat": 4,
 "nbformat_minor": 4
}
