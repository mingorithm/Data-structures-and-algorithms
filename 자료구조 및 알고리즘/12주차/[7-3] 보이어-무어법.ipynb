{
 "cells": [
  {
   "cell_type": "code",
   "execution_count": 4,
   "metadata": {},
   "outputs": [
    {
     "name": "stdout",
     "output_type": "stream",
     "text": [
      "텍스트를 입력하세요.: ABABCDEFGHA\n",
      "패턴을 입력하세요.: ABC\n",
      "3번째 문자에서 일치합니다.\n"
     ]
    }
   ],
   "source": [
    "def bm_match(txt:str, pat:str)->int:\n",
    "    skip=[None]*256 ## 모든 문자열의 이동량을 계산시 필요함\n",
    "    \n",
    "    for pt in range(256):\n",
    "        skip[pt]=len(pat)        ## 검색할 문자열의 길이만큼 skip의 크기를 부여\n",
    "    for pt in range(len(pat)):\n",
    "        skip[ord(pat[pt])]=len(pat)-pt-1 ## 이동량 만큼 skip에 저장\n",
    "         \n",
    "    while pt<len(txt):\n",
    "        pp=len(pat)-1     ##문자열 끝부분부터 비교하기 위해 설정\n",
    "        while txt[pt]==pat[pp]:\n",
    "            if pp==0:           ## 문자열이 맞음을 의미\n",
    "                return pt\n",
    "            pt-=1             \n",
    "            pp-=1\n",
    "        pt+=skip[ord(txt[pt])] if skip[ord(txt[pt])]>len(pat)-pp \\ ##하나씩 문자열을 계산하는 과정?\n",
    "            else len(pat)-pp\n",
    "        \n",
    "    return -1\n",
    "    \n",
    "if __name__ == '__main__':\n",
    "    s1 = input('텍스트를 입력하세요.: ')  \n",
    "    s2 = input('패턴을 입력하세요.: ')    \n",
    "\n",
    "    idx = bm_match(s1, s2)  \n",
    "\n",
    "    if idx == -1:\n",
    "        print('텍스트 안에 패턴이 존재하지 않습니다.')\n",
    "    else:\n",
    "        print(f'{(idx + 1)}번째 문자에서 일치합니다.')   "
   ]
  },
  {
   "cell_type": "code",
   "execution_count": null,
   "metadata": {},
   "outputs": [],
   "source": []
  }
 ],
 "metadata": {
  "kernelspec": {
   "display_name": "Python 3",
   "language": "python",
   "name": "python3"
  },
  "language_info": {
   "codemirror_mode": {
    "name": "ipython",
    "version": 3
   },
   "file_extension": ".py",
   "mimetype": "text/x-python",
   "name": "python",
   "nbconvert_exporter": "python",
   "pygments_lexer": "ipython3",
   "version": "3.8.3"
  }
 },
 "nbformat": 4,
 "nbformat_minor": 4
}
