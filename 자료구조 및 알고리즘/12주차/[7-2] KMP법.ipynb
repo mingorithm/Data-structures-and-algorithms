{
 "cells": [
  {
   "cell_type": "code",
   "execution_count": 1,
   "metadata": {},
   "outputs": [
    {
     "name": "stdout",
     "output_type": "stream",
     "text": [
      "텍스트 입력>>ABABCDEFGHA\n",
      "문자열 입력>>ABC\n",
      "3번째 문자에서 일치\n"
     ]
    }
   ],
   "source": [
    "def kmp_match(txt:str, pat:str)-> int:\n",
    "    pt=1 \n",
    "    pp=0\n",
    "    skip=[0]*(len(pat)+1) ##숙제: 2번째 문자열부터 검색하기 때문에 +1을 해준다. 첫번째 문자열부터 검색해도 되기때문에 \n",
    "                          ## +1이 없어도 될 것 같습니다.\n",
    "    \n",
    "    skip[pt]=0\n",
    "    while pt != len(pat):   ##문자열 끝까지 검색\n",
    "        if pat[pt]==pat[pp]: ##  txt와 pat의 문자열의 값이 같다면\n",
    "            pt+=1\n",
    "            pp+=1\n",
    "            skip[pt]==pp      ##다음 문자열로 검색\n",
    "        elif pp==0:       ##숙제: pp==0이면 검색할 pt가 없기 때문에 pp를 통해 다음 값으로 이동\n",
    "            pt+=1\n",
    "            skip[pt]==pp\n",
    "        else:          ## 건너뛰어서 다시 문자열 일치하는 과정을 탐색\n",
    "            pp=skip[pp] \n",
    "            \n",
    "        \n",
    "    pt=0\n",
    "    pp=0\n",
    "    while pt!=len(txt) and pp !=len(pat):\n",
    "        if txt[pt]== pat[pp]:\n",
    "            pt+=1\n",
    "            pp+=1\n",
    "        elif pp==0:\n",
    "            pt+=1\n",
    "        else:\n",
    "            pp=skip[pp]\n",
    "            \n",
    "    return pt -pp if pp==len(pat) else -1\n",
    "\n",
    "if __name__== '__main__':\n",
    "    s1=input(\"텍스트 입력>>\")\n",
    "    s2=input(\"문자열 입력>>\")\n",
    "    \n",
    "    idx=kmp_match(s1,s2)\n",
    "    \n",
    "    if idx==-1:\n",
    "        print(\"텍스트 안에 문자열이 없습니다.\")\n",
    "    else:\n",
    "        print(f'{(idx+1)}번째 문자에서 일치')"
   ]
  },
  {
   "cell_type": "code",
   "execution_count": null,
   "metadata": {},
   "outputs": [],
   "source": []
  }
 ],
 "metadata": {
  "kernelspec": {
   "display_name": "Python 3",
   "language": "python",
   "name": "python3"
  },
  "language_info": {
   "codemirror_mode": {
    "name": "ipython",
    "version": 3
   },
   "file_extension": ".py",
   "mimetype": "text/x-python",
   "name": "python",
   "nbconvert_exporter": "python",
   "pygments_lexer": "ipython3",
   "version": "3.8.3"
  }
 },
 "nbformat": 4,
 "nbformat_minor": 4
}
