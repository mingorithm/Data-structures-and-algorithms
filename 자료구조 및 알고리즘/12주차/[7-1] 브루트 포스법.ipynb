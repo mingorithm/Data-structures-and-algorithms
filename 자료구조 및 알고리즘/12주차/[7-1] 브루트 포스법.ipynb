{
 "cells": [
  {
   "cell_type": "code",
   "execution_count": 1,
   "metadata": {},
   "outputs": [
    {
     "name": "stdout",
     "output_type": "stream",
     "text": [
      "텍스트 입력하세요>>ABABCDEFGHA\n",
      "패턴 입력하세요>>ABC\n",
      "3번째 문자에서 일치합니다.\n"
     ]
    }
   ],
   "source": [
    "def bf_match(txt:str, pat:str) ->int:\n",
    "    pt=0  ## 텍스트(t)를 의미\n",
    "    pp=0  ## 패턴(p)를 의미\n",
    "    \n",
    "    while pt !=len(txt) and pp !=len(pat): ##pt 와 pp가 문자열 끝까지 갈때까지 실행\n",
    "        if txt[pt]==pat[pp]:    ## 문자열과 패턴이 같다면\n",
    "            pt+=1   ## 다음 문자열과 패턴이 같은지 확인을 위해 +1을 해줌\n",
    "            pp+=1   ## 다음 문자열과 패턴이 같은지 확인을 위해 +1을 해줌\n",
    "        else:\n",
    "            pt=pt-pp+1    ## pt-pp= pt의 위치 파악,,  pt-pp+1을 해주면 다음 문자열을 검색하기 위해 1을 더해줌\n",
    "            pp=0    ##패턴을 0으로 초기화시켜 다음 pt와 일치하는지 다시 검색하기 위한 과정\n",
    "    \n",
    "    return pt-pp if pp ==len(pat) else -1    ## 찾으면 pt-pp로 문자열 반환 못찾으면 -1반환\n",
    "\n",
    "if __name__ =='__main__':\n",
    "    s1=input(\"텍스트 입력하세요>>\")  ##텍스트\n",
    "    s2=input(\"패턴 입력하세요>>\")  ##패턴\n",
    "    \n",
    "    idx=bf_match(s1,s2)\n",
    "    \n",
    "    if idx==-1:\n",
    "        print(\"문자열에 일치하는 패턴이 없습니다.\")\n",
    "        \n",
    "    else:\n",
    "        print(f'{(idx+1)}번째 문자에서 일치합니다.')"
   ]
  },
  {
   "cell_type": "code",
   "execution_count": null,
   "metadata": {},
   "outputs": [],
   "source": []
  }
 ],
 "metadata": {
  "kernelspec": {
   "display_name": "Python 3",
   "language": "python",
   "name": "python3"
  },
  "language_info": {
   "codemirror_mode": {
    "name": "ipython",
    "version": 3
   },
   "file_extension": ".py",
   "mimetype": "text/x-python",
   "name": "python",
   "nbconvert_exporter": "python",
   "pygments_lexer": "ipython3",
   "version": "3.8.3"
  }
 },
 "nbformat": 4,
 "nbformat_minor": 4
}
