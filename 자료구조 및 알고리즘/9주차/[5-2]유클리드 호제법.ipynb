{
 "cells": [
  {
   "cell_type": "code",
   "execution_count": 4,
   "metadata": {},
   "outputs": [
    {
     "name": "stdout",
     "output_type": "stream",
     "text": [
      "두 정수의 최대 공약수를 구하기 위해 두 개의 정수 값을 입력해주세요\n",
      "첫 번째 정숫값:18\n",
      "두 번째 정숫값:96\n",
      "두 정수의 최대공약수는 6이다.\n"
     ]
    }
   ],
   "source": [
    "def gcd(x:int,y:int)->int:\n",
    "    if y==0:\n",
    "        return x\n",
    "    else:\n",
    "        return gcd(y,x%y)\n",
    "    \n",
    "if __name__=='__main__':\n",
    "    print('두 정수의 최대 공약수를 구하기 위해 두 개의 정수 값을 입력해주세요')\n",
    "    x=int(input('첫 번째 정숫값:'))\n",
    "    y=int(input('두 번째 정숫값:'))\n",
    "    \n",
    "    print(f'두 정수의 최대공약수는 {gcd(x,y)}이다.')"
   ]
  },
  {
   "cell_type": "code",
   "execution_count": null,
   "metadata": {},
   "outputs": [],
   "source": []
  },
  {
   "cell_type": "code",
   "execution_count": null,
   "metadata": {},
   "outputs": [],
   "source": []
  }
 ],
 "metadata": {
  "kernelspec": {
   "display_name": "Python 3",
   "language": "python",
   "name": "python3"
  },
  "language_info": {
   "codemirror_mode": {
    "name": "ipython",
    "version": 3
   },
   "file_extension": ".py",
   "mimetype": "text/x-python",
   "name": "python",
   "nbconvert_exporter": "python",
   "pygments_lexer": "ipython3",
   "version": "3.8.3"
  }
 },
 "nbformat": 4,
 "nbformat_minor": 4
}
