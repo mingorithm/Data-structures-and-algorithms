{
 "cells": [
  {
   "cell_type": "code",
   "execution_count": 1,
   "metadata": {},
   "outputs": [
    {
     "name": "stdout",
     "output_type": "stream",
     "text": [
      "원반의 개수를 입력하세요:5\n",
      "원반 1을 1기둥에서 3기둥으로 옮깁니다.\n",
      "원반 2을 1기둥에서 2기둥으로 옮깁니다.\n",
      "원반 1을 3기둥에서 2기둥으로 옮깁니다.\n",
      "원반 3을 1기둥에서 3기둥으로 옮깁니다.\n",
      "원반 1을 2기둥에서 1기둥으로 옮깁니다.\n",
      "원반 2을 2기둥에서 3기둥으로 옮깁니다.\n",
      "원반 1을 1기둥에서 3기둥으로 옮깁니다.\n",
      "원반 4을 1기둥에서 2기둥으로 옮깁니다.\n",
      "원반 1을 3기둥에서 2기둥으로 옮깁니다.\n",
      "원반 2을 3기둥에서 1기둥으로 옮깁니다.\n",
      "원반 1을 2기둥에서 1기둥으로 옮깁니다.\n",
      "원반 3을 3기둥에서 2기둥으로 옮깁니다.\n",
      "원반 1을 1기둥에서 3기둥으로 옮깁니다.\n",
      "원반 2을 1기둥에서 2기둥으로 옮깁니다.\n",
      "원반 1을 3기둥에서 2기둥으로 옮깁니다.\n",
      "원반 5을 1기둥에서 3기둥으로 옮깁니다.\n",
      "원반 1을 2기둥에서 1기둥으로 옮깁니다.\n",
      "원반 2을 2기둥에서 3기둥으로 옮깁니다.\n",
      "원반 1을 1기둥에서 3기둥으로 옮깁니다.\n",
      "원반 3을 2기둥에서 1기둥으로 옮깁니다.\n",
      "원반 1을 3기둥에서 2기둥으로 옮깁니다.\n",
      "원반 2을 3기둥에서 1기둥으로 옮깁니다.\n",
      "원반 1을 2기둥에서 1기둥으로 옮깁니다.\n",
      "원반 4을 2기둥에서 3기둥으로 옮깁니다.\n",
      "원반 1을 1기둥에서 3기둥으로 옮깁니다.\n",
      "원반 2을 1기둥에서 2기둥으로 옮깁니다.\n",
      "원반 1을 3기둥에서 2기둥으로 옮깁니다.\n",
      "원반 3을 1기둥에서 3기둥으로 옮깁니다.\n",
      "원반 1을 2기둥에서 1기둥으로 옮깁니다.\n",
      "원반 2을 2기둥에서 3기둥으로 옮깁니다.\n",
      "원반 1을 1기둥에서 3기둥으로 옮깁니다.\n"
     ]
    }
   ],
   "source": [
    "def move(no:int, x:int,y:int)->None:\n",
    "    if no>1:\n",
    "        move(no-1,x,6-x-y)\n",
    "        \n",
    "    print(f'원반 {no}을 {x}기둥에서 {y}기둥으로 옮깁니다.')\n",
    "    \n",
    "    if no>1:\n",
    "        move(no-1,6-x-y,y)\n",
    "        \n",
    "n=int(input('원반의 개수를 입력하세요:'))\n",
    "move(n,1,3)"
   ]
  },
  {
   "cell_type": "code",
   "execution_count": null,
   "metadata": {},
   "outputs": [],
   "source": []
  }
 ],
 "metadata": {
  "kernelspec": {
   "display_name": "Python 3",
   "language": "python",
   "name": "python3"
  },
  "language_info": {
   "codemirror_mode": {
    "name": "ipython",
    "version": 3
   },
   "file_extension": ".py",
   "mimetype": "text/x-python",
   "name": "python",
   "nbconvert_exporter": "python",
   "pygments_lexer": "ipython3",
   "version": "3.8.3"
  }
 },
 "nbformat": 4,
 "nbformat_minor": 4
}
