{
 "cells": [
  {
   "cell_type": "code",
   "execution_count": 2,
   "metadata": {},
   "outputs": [
    {
     "name": "stdout",
     "output_type": "stream",
     "text": [
      "버블 정렬 시작\n",
      "원소 수 입력:6\n",
      "x[0]:2\n",
      "x[1]:5\n",
      "x[2]:8\n",
      "x[3]:1\n",
      "x[4]:4\n",
      "x[5]:7\n",
      "패스 1\n",
      " 2   5   8   1   4  - 7\n",
      " 2   5   8   1  - 4   7\n",
      " 2   5   8  + 1   4   7\n",
      " 2   5  + 1   8   4   7\n",
      " 2  + 1   5   8   4   7\n",
      " 1   2   5   8   4   7\n",
      "패스 2\n",
      " 1   2   5   8   4  - 7\n",
      " 1   2   5   8  + 4   7\n",
      " 1   2   5  + 4   8   7\n",
      " 1   2  - 4   5   8   7\n",
      " 1   2   4   5   8   7\n",
      "패스 3\n",
      " 1   2   4   5   8  + 7\n",
      " 1   2   4   5  - 7   8\n",
      " 1   2   4  - 5   7   8\n",
      " 1   2   4   5   7   8\n",
      "패스 4\n",
      " 1   2   4   5   7  - 8\n",
      " 1   2   4   5  - 7   8\n",
      " 1   2   4   5   7   8\n",
      "비교를 14번 했습니다.\n",
      "교환을 6번 했습니다.\n",
      "오름차순 정렬 완료\n",
      "x[0]=1\n",
      "x[1]=2\n",
      "x[2]=4\n",
      "x[3]=5\n",
      "x[4]=7\n",
      "x[5]=8\n"
     ]
    }
   ],
   "source": [
    "from typing import MutableSequence\n",
    "\n",
    "def bubble_sort2_verbose(a: MutableSequence)->None:\n",
    "    ccnt=0\n",
    "    scnt=0\n",
    "    n=len(a)\n",
    "    for i in range(n-1):\n",
    "        print(f'패스 {i+1}')\n",
    "        exchange=0\n",
    "        for j in range(n-1,i,-1):\n",
    "            for m in range(0,n-1):\n",
    "                print(f'{a[m]:2}'+(\"  \"if m != j-1 else \"  +\" if a[j-1]>a[j] else \"  -\"),\n",
    "                     end=\"\",)\n",
    "            print(f'{a[n-1]:2}')\n",
    "            ccnt+=1\n",
    "            if a[j-1]>a[j]:\n",
    "                scnt+=1\n",
    "                a[j-1],a[j]=a[j],a[j-1]\n",
    "                exchange+=1\n",
    "        for m in range(0,n-1):\n",
    "            print(f'{a[m]:2}', end=\"  \")\n",
    "        print(f\"{a[n-1]:2}\")\n",
    "        if exchange==0:\n",
    "            break\n",
    "    print(f'비교를 {ccnt}번 했습니다.')\n",
    "    print(f'교환을 {scnt}번 했습니다.')\n",
    "    \n",
    "if __name__==\"__main__\":\n",
    "    print(\"버블 정렬 시작\")\n",
    "    num=int(input(\"원소 수 입력:\"))\n",
    "    x=[None]*num\n",
    "    \n",
    "    for i in range(num):\n",
    "        x[i]=int(input(f'x[{i}]:'))\n",
    "        \n",
    "    bubble_sort2_verbose(x)\n",
    "    \n",
    "    print(\"오름차순 정렬 완료\")\n",
    "    for i in range(num):\n",
    "        print(f'x[{i}]={x[i]}')\n",
    "    "
   ]
  },
  {
   "cell_type": "code",
   "execution_count": null,
   "metadata": {},
   "outputs": [],
   "source": []
  }
 ],
 "metadata": {
  "kernelspec": {
   "display_name": "Python 3",
   "language": "python",
   "name": "python3"
  },
  "language_info": {
   "codemirror_mode": {
    "name": "ipython",
    "version": 3
   },
   "file_extension": ".py",
   "mimetype": "text/x-python",
   "name": "python",
   "nbconvert_exporter": "python",
   "pygments_lexer": "ipython3",
   "version": "3.8.3"
  }
 },
 "nbformat": 4,
 "nbformat_minor": 4
}
