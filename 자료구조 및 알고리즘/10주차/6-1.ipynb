{
 "cells": [
  {
   "cell_type": "code",
   "execution_count": 2,
   "metadata": {},
   "outputs": [
    {
     "name": "stdout",
     "output_type": "stream",
     "text": [
      "버블 정렬하기\n",
      "원소 수 입력:6\n",
      "x[0]):2\n",
      "x[1]):5\n",
      "x[2]):1\n",
      "x[3]):6\n",
      "x[4]):8\n",
      "x[5]):9\n",
      "오름차순으로 정렬했습니다.\n",
      "x[0]=1\n",
      "x[1]=2\n",
      "x[2]=5\n",
      "x[3]=6\n",
      "x[4]=8\n",
      "x[5]=9\n"
     ]
    }
   ],
   "source": [
    "from typing import MutableSequence\n",
    "\n",
    "def bubble_sort(a: MutableSequence)->None:\n",
    "    \n",
    "    n=len(a)\n",
    "    for i in range(n-1):\n",
    "        for j in range(n-1,i,-1):\n",
    "            if a[j-1]>a[j]:\n",
    "                a[j-1],a[j]=a[j],a[j-1]\n",
    "                \n",
    "if __name__=='__main__':\n",
    "    print(\"버블 정렬하기\")\n",
    "    num=int(input(\"원소 수 입력:\"))\n",
    "    x=[None]*num\n",
    "    \n",
    "    for i in range(num):\n",
    "        x[i]=int(input(f'x[{i}]):'))\n",
    "        \n",
    "    bubble_sort(x)\n",
    "    \n",
    "    print(\"오름차순으로 정렬했습니다.\")\n",
    "    for i in range(num):\n",
    "        print(f'x[{i}]={x[i]}')"
   ]
  },
  {
   "cell_type": "code",
   "execution_count": null,
   "metadata": {},
   "outputs": [],
   "source": []
  }
 ],
 "metadata": {
  "kernelspec": {
   "display_name": "Python 3",
   "language": "python",
   "name": "python3"
  },
  "language_info": {
   "codemirror_mode": {
    "name": "ipython",
    "version": 3
   },
   "file_extension": ".py",
   "mimetype": "text/x-python",
   "name": "python",
   "nbconvert_exporter": "python",
   "pygments_lexer": "ipython3",
   "version": "3.8.3"
  }
 },
 "nbformat": 4,
 "nbformat_minor": 4
}
