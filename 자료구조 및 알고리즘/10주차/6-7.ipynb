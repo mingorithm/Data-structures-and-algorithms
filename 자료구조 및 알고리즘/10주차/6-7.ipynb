{
 "cells": [
  {
   "cell_type": "code",
   "execution_count": 1,
   "metadata": {},
   "outputs": [
    {
     "name": "stdout",
     "output_type": "stream",
     "text": [
      "단순 삽입 정렬 수행\n",
      "원소 수 입력:6\n",
      "x[0]: 2\n",
      "x[1]: 5\n",
      "x[2]: 8\n",
      "x[3]: 1\n",
      "x[4]: 4\n",
      "x[5]: 7\n",
      "오름차순 정렬\n",
      "x[0]=1\n",
      "x[1]=2\n",
      "x[2]=4\n",
      "x[3]=5\n",
      "x[4]=7\n",
      "x[5]=8\n"
     ]
    }
   ],
   "source": [
    "from typing import MutableSequence\n",
    "\n",
    "def insertion_sort(a:MutableSequence)->None:\n",
    "    n=len(a)\n",
    "    for i in range(1,n):\n",
    "        j=i\n",
    "        tmp=a[i]\n",
    "        while j>0 and a[j-1]>tmp:\n",
    "            a[j]=a[j-1]\n",
    "            j-=1\n",
    "        a[j]=tmp\n",
    "        \n",
    "if __name__==\"__main__\":\n",
    "    print(\"단순 삽입 정렬 수행\")\n",
    "    num=int(input(\"원소 수 입력:\"))\n",
    "    x=[None]*num\n",
    "    \n",
    "    for i in range(num):\n",
    "        x[i]=int(input(f'x[{i}]: ' ))\n",
    "        \n",
    "        \n",
    "    insertion_sort(x)\n",
    "    \n",
    "    print(\"오름차순 정렬\")\n",
    "    for i in range(num):\n",
    "        print(f'x[{i}]={x[i]}')"
   ]
  },
  {
   "cell_type": "code",
   "execution_count": null,
   "metadata": {},
   "outputs": [],
   "source": []
  }
 ],
 "metadata": {
  "kernelspec": {
   "display_name": "Python 3",
   "language": "python",
   "name": "python3"
  },
  "language_info": {
   "codemirror_mode": {
    "name": "ipython",
    "version": 3
   },
   "file_extension": ".py",
   "mimetype": "text/x-python",
   "name": "python",
   "nbconvert_exporter": "python",
   "pygments_lexer": "ipython3",
   "version": "3.8.3"
  }
 },
 "nbformat": 4,
 "nbformat_minor": 4
}
