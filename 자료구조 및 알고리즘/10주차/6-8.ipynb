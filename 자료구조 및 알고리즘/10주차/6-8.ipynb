{
 "cells": [
  {
   "cell_type": "code",
   "execution_count": null,
   "metadata": {},
   "outputs": [],
   "source": [
    "from typing import MutableSequence\n",
    "\n",
    "def shell_sort(a: MutableSequence)->None:\n",
    "    n=len(a)\n",
    "    h=n//2\n",
    "    while h>0:\n",
    "        for i in range(h,n):\n",
    "            j=1-h\n",
    "            tmp=a[i]\n",
    "            while j>=0 and a[j]>tmp:\n",
    "                a[j+h]=a[j]\n",
    "                j-=h\n",
    "            a[j+h]=tmp\n",
    "        h//2\n",
    "        \n",
    "if __name__ == '__main__':\n",
    "    print('셸 정렬 수행.')\n",
    "    num = int(input('원소 수를 입력하세요.: '))\n",
    "    x = [None] * num  \n",
    "\n",
    "    for i in range(num):\n",
    "        x[i] = int(input(f'x[{i}]: '))\n",
    "\n",
    "    shell_sort(x)\n",
    "\n",
    "    print('오름차순으로 정렬했습니다.')\n",
    "    for i in range(num):\n",
    "        print(f'x[{i}] = {x[i]}')"
   ]
  }
 ],
 "metadata": {
  "kernelspec": {
   "display_name": "Python 3",
   "language": "python",
   "name": "python3"
  },
  "language_info": {
   "codemirror_mode": {
    "name": "ipython",
    "version": 3
   },
   "file_extension": ".py",
   "mimetype": "text/x-python",
   "name": "python",
   "nbconvert_exporter": "python",
   "pygments_lexer": "ipython3",
   "version": "3.8.3"
  }
 },
 "nbformat": 4,
 "nbformat_minor": 4
}
